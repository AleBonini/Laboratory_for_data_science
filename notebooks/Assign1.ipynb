{
 "cells": [
  {
   "cell_type": "code",
   "execution_count": 2,
   "id": "c8e60475",
   "metadata": {},
   "outputs": [
    {
     "name": "stdout",
     "output_type": "stream",
     "text": [
      "186074 49 49\n"
     ]
    }
   ],
   "source": [
    "#creo tournament\n",
    "colonne=[0,5,1,2,3,4,47,48]\n",
    "\n",
    "with open(\"/Users/Barbara/Desktop/Laboratory/ProgettoDati/tournament.csv\", 'w') as out:\n",
    "    with open(\"/Users/Barbara/Desktop/Laboratory/ProgettoDati/tennis.csv\", 'r')as f:\n",
    "        count = 0\n",
    "        max_col = float('-inf')\n",
    "        min_col = float('inf')\n",
    "        for line in f:\n",
    "            count +=1\n",
    "            tokens = line.strip().split(',')\n",
    "            new_line = ''\n",
    "            for col in colonne:\n",
    "                new_line+=tokens[col] + ','\n",
    "            new_line = new_line[:-1] + \"\\n\"\n",
    "            out.write(new_line)\n",
    "            max_col = max(max_col, len(tokens))\n",
    "            min_col = min(min_col, len(tokens))\n",
    "        print(count, max_col, min_col)"
   ]
  },
  {
   "cell_type": "code",
   "execution_count": 1,
   "id": "da341304",
   "metadata": {},
   "outputs": [],
   "source": [
    "#creo match.csv\n",
    "from csv import writer\n",
    "from csv import reader\n",
    "\n",
    "with open('/Users/Barbara/Desktop/Laboratory/ProgettoDati/match.csv', 'w',newline='') as out:\n",
    "    with open('/Users/Barbara/Desktop/Laboratory/ProgettoDati/tennis.csv', 'r') as f:\n",
    "  \n",
    "        writer = writer(out)\n",
    "        writer.writerow(['tourney_id','match_id','winner_id','loser_id','score','best_of','round','minutes','w_ace','w_df','w_svpt','w_1stIn','w_1stWon','w_2ndWon','w_SvGms','w_bpSaved','w_bpFaced','l_ace','l_df','l_svpt','l_1stIn','l_1stWon','l_2ndWon','l_SvGms', 'l_bpSaved','l_bpFaced' ,'winner_rank', 'winner_rank_points' ,'loser_rank', 'loser_rank_points'])\n",
    "        next(f)        \n",
    "        reader = reader(f)\n",
    "        \n",
    "        num = 0\n",
    "        torneo = 0\n",
    "        for row in reader:\n",
    "            if row[0]!=torneo:\n",
    "                num = 0\n",
    "            num+=1\n",
    "            torneo = row[0]\n",
    "            \n",
    "            match_id = str(num)+'-'+ torneo\n",
    "            row.insert(1, match_id)\n",
    "            \n",
    "            writer.writerow(row) "
   ]
  },
  {
   "cell_type": "code",
   "execution_count": 2,
   "id": "04ecea8e",
   "metadata": {},
   "outputs": [],
   "source": [
    "# Importing the libraries\n",
    "%matplotlib inline\n",
    "import numpy as np\n",
    "import pandas as pd\n",
    "import matplotlib.pyplot as plt\n",
    "import seaborn as sns\n",
    "import warnings\n",
    "warnings.filterwarnings('ignore')"
   ]
  },
  {
   "cell_type": "code",
   "execution_count": 3,
   "id": "0b4de2ce",
   "metadata": {},
   "outputs": [],
   "source": [
    "tennis = pd.read_csv(\"/Users/Barbara/Desktop/Laboratory/ProgettoDati/tennis.csv\")"
   ]
  },
  {
   "cell_type": "code",
   "execution_count": 6,
   "id": "a7cabcb9",
   "metadata": {},
   "outputs": [],
   "source": [
    "tennis = tennis['tourney_date']"
   ]
  },
  {
   "cell_type": "code",
   "execution_count": 8,
   "id": "3d447c54",
   "metadata": {},
   "outputs": [],
   "source": [
    "tennis.to_csv(\"/Users/Barbara/Desktop/Laboratory/ProgettoDati/date.csv\",index = False)"
   ]
  },
  {
   "cell_type": "code",
   "execution_count": 9,
   "id": "7fd8534f",
   "metadata": {},
   "outputs": [],
   "source": [
    "#creo date\n",
    "\n",
    "from csv import writer\n",
    "from csv import reader\n",
    "\n",
    "\n",
    "with open('/Users/Barbara/Desktop/Laboratory/ProgettoDati/date.csv', 'r') as f:\n",
    "    with open('/Users/Barbara/Desktop/Laboratory/ProgettoDati/date_split.csv', 'w',newline='') as out:\n",
    "        \n",
    "        writer = writer(out)\n",
    "        writer.writerow(['date_id', 'year', 'month', 'day','quarter'])\n",
    "        next(f)        \n",
    "        reader = reader(f)\n",
    "        \n",
    "        count_id = 0\n",
    "        for row in reader:\n",
    "\n",
    "            year = int(row[0][:4])\n",
    "            month = int(row[0][4:6])\n",
    "            day = int(row[0][6:8])\n",
    "            quarter = month//4 + 1\n",
    "\n",
    "            row.append(year)\n",
    "            row.append(month)\n",
    "            row.append(day)\n",
    "            row.append(quarter)\n",
    "            \n",
    "            writer.writerow(row)"
   ]
  },
  {
   "cell_type": "code",
   "execution_count": 20,
   "id": "e6255aef",
   "metadata": {},
   "outputs": [
    {
     "data": {
      "text/plain": [
       "(55208, 2)"
      ]
     },
     "execution_count": 20,
     "metadata": {},
     "output_type": "execute_result"
    }
   ],
   "source": [
    "female = pd.read_csv(\"/Users/Barbara/Desktop/Laboratory/ProgettoDati/female_players.csv\")\n",
    "male = pd.read_csv(\"/Users/Barbara/Desktop/Laboratory/ProgettoDati/male_players.csv\")\n",
    "male.shape\n"
   ]
  },
  {
   "cell_type": "code",
   "execution_count": 21,
   "id": "8b3807bb",
   "metadata": {},
   "outputs": [
    {
     "data": {
      "text/plain": [
       "(46172, 2)"
      ]
     },
     "execution_count": 21,
     "metadata": {},
     "output_type": "execute_result"
    }
   ],
   "source": [
    "female.shape"
   ]
  },
  {
   "cell_type": "code",
   "execution_count": null,
   "id": "a5f15794",
   "metadata": {},
   "outputs": [],
   "source": []
  },
  {
   "cell_type": "code",
   "execution_count": null,
   "id": "7a641b7e",
   "metadata": {},
   "outputs": [],
   "source": [
    "# creo player.csv\n",
    "\n",
    "from csv import writer\n",
    "from csv import reader\n",
    "\n",
    "femalesex = open('/Users/Barbara/Desktop/Laboratory/ProgettoDati/female_players.csv', 'r')\n",
    "malesex = open('/Users/Barbara/Desktop/Laboratory/ProgettoDati/male_players.csv', 'r')\n",
    "\n"
   ]
  }
 ],
 "metadata": {
  "kernelspec": {
   "display_name": "Python 3",
   "language": "python",
   "name": "python3"
  },
  "language_info": {
   "codemirror_mode": {
    "name": "ipython",
    "version": 3
   },
   "file_extension": ".py",
   "mimetype": "text/x-python",
   "name": "python",
   "nbconvert_exporter": "python",
   "pygments_lexer": "ipython3",
   "version": "3.8.8"
  }
 },
 "nbformat": 4,
 "nbformat_minor": 5
}
